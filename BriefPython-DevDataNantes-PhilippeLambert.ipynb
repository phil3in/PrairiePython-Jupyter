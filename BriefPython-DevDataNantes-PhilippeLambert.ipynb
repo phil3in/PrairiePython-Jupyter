{
 "cells": [
  {
   "cell_type": "markdown",
   "metadata": {
    "raw_mimetype": "text/markdown"
   },
   "source": [
    "# Découvrez Jupyter\n",
    "\n",
    "## [Veille] Expliquez moi ce qu’est pour vous Jupyter en Markdown en créant une nouvelle cellule dessous en quelques lignes\n"
   ]
  },
  {
   "cell_type": "markdown",
   "metadata": {},
   "source": [
    "Essayez d'ajouter une autre ligne de code dans la cellule ci-dessus et de la relancer.\n",
    "\n",
    "Maintenant : ajoutez une nouvelle cellule de code en cliquant sur +  et déplacez là avec les flèches\n",
    "\n"
   ]
  },
  {
   "cell_type": "markdown",
   "metadata": {},
   "source": [
    "# Découvrez Python\n",
    "\n",
    "## [Veille] Qu’est-ce que Python ? Créez une réponse ci-dessous dans une nouvelle cellule\n"
   ]
  },
  {
   "cell_type": "markdown",
   "metadata": {},
   "source": [
    "# Livrables\n",
    "\n",
    "## Pousser votre fichier Jupyter sur la page Organisation GitHub «Simplon Dev-Data Nantes» et dans le projet Python Jupyter (https://github.com/simplon-dev-data-nantes-2020/python-jupyter)\n"
   ]
  },
  {
   "cell_type": "code",
   "execution_count": null,
   "metadata": {},
   "outputs": [],
   "source": []
  }
 ],
 "metadata": {
  "celltoolbar": "Format de la Cellule Texte Brut",
  "kernelspec": {
   "display_name": "Python 2",
   "language": "python",
   "name": "python2"
  },
  "language_info": {
   "codemirror_mode": {
    "name": "ipython",
    "version": 2
   },
   "file_extension": ".py",
   "mimetype": "text/x-python",
   "name": "python",
   "nbconvert_exporter": "python",
   "pygments_lexer": "ipython2",
   "version": "2.7.18"
  }
 },
 "nbformat": 4,
 "nbformat_minor": 4
}
